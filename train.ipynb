{
 "cells": [
  {
   "cell_type": "code",
   "execution_count": 1,
   "id": "e6080aa1",
   "metadata": {},
   "outputs": [
    {
     "name": "stdout",
     "output_type": "stream",
     "text": [
      "Requirement already satisfied: keras==2.3.1 in c:\\users\\mahes\\appdata\\local\\programs\\python\\python39\\lib\\site-packages (2.3.1)\n",
      "Requirement already satisfied: numpy>=1.9.1 in c:\\users\\mahes\\appdata\\local\\programs\\python\\python39\\lib\\site-packages (from keras==2.3.1) (1.26.4)\n",
      "Requirement already satisfied: scipy>=0.14 in c:\\users\\mahes\\appdata\\local\\programs\\python\\python39\\lib\\site-packages (from keras==2.3.1) (1.13.1)\n",
      "Requirement already satisfied: six>=1.9.0 in c:\\users\\mahes\\appdata\\local\\programs\\python\\python39\\lib\\site-packages (from keras==2.3.1) (1.17.0)\n",
      "Requirement already satisfied: pyyaml in c:\\users\\mahes\\appdata\\local\\programs\\python\\python39\\lib\\site-packages (from keras==2.3.1) (6.0.2)\n",
      "Requirement already satisfied: h5py in c:\\users\\mahes\\appdata\\local\\programs\\python\\python39\\lib\\site-packages (from keras==2.3.1) (3.14.0)\n",
      "Requirement already satisfied: keras-applications>=1.0.6 in c:\\users\\mahes\\appdata\\local\\programs\\python\\python39\\lib\\site-packages (from keras==2.3.1) (1.0.8)\n",
      "Requirement already satisfied: keras-preprocessing>=1.0.5 in c:\\users\\mahes\\appdata\\local\\programs\\python\\python39\\lib\\site-packages (from keras==2.3.1) (1.1.2)\n"
     ]
    },
    {
     "name": "stderr",
     "output_type": "stream",
     "text": [
      "ERROR: Could not find a version that satisfies the requirement tensorflow==2.2.0 (from versions: 2.5.0, 2.5.1, 2.5.2, 2.5.3, 2.6.0rc0, 2.6.0rc1, 2.6.0rc2, 2.6.0, 2.6.1, 2.6.2, 2.6.3, 2.6.4, 2.6.5, 2.7.0rc0, 2.7.0rc1, 2.7.0, 2.7.1, 2.7.2, 2.7.3, 2.7.4, 2.8.0rc0, 2.8.0rc1, 2.8.0, 2.8.1, 2.8.2, 2.8.3, 2.8.4, 2.9.0rc0, 2.9.0rc1, 2.9.0rc2, 2.9.0, 2.9.1, 2.9.2, 2.9.3, 2.10.0rc0, 2.10.0rc1, 2.10.0rc2, 2.10.0rc3, 2.10.0, 2.10.1, 2.11.0rc0, 2.11.0rc1, 2.11.0rc2, 2.11.0, 2.11.1, 2.12.0rc0, 2.12.0rc1, 2.12.0, 2.12.1, 2.13.0rc0, 2.13.0rc1, 2.13.0rc2, 2.13.0, 2.13.1, 2.14.0rc0, 2.14.0rc1, 2.14.0, 2.14.1, 2.15.0rc0, 2.15.0rc1, 2.15.0, 2.15.1, 2.16.0rc0, 2.16.1, 2.16.2, 2.17.0rc0, 2.17.0rc1, 2.17.0, 2.17.1, 2.18.0rc0, 2.18.0rc1, 2.18.0rc2, 2.18.0, 2.18.1, 2.19.0rc0, 2.19.0, 2.20.0rc0)\n",
      "ERROR: No matching distribution found for tensorflow==2.2.0\n"
     ]
    },
    {
     "name": "stdout",
     "output_type": "stream",
     "text": [
      "Collecting protobuf==3.19.6\n",
      "  Downloading protobuf-3.19.6-cp39-cp39-win_amd64.whl.metadata (807 bytes)\n",
      "Downloading protobuf-3.19.6-cp39-cp39-win_amd64.whl (895 kB)\n",
      "   ---------------------------------------- 0.0/895.9 kB ? eta -:--:--\n",
      "   ---------------------------------------- 0.0/895.9 kB ? eta -:--:--\n",
      "   ---------------------------------------- 0.0/895.9 kB ? eta -:--:--\n",
      "   ----------------------- ---------------- 524.3/895.9 kB 2.1 MB/s eta 0:00:01\n",
      "   ----------------------------------- ---- 786.4/895.9 kB 1.5 MB/s eta 0:00:01\n",
      "   ---------------------------------------- 895.9/895.9 kB 1.5 MB/s  0:00:00\n",
      "Installing collected packages: protobuf\n",
      "  Attempting uninstall: protobuf\n",
      "    Found existing installation: protobuf 5.29.5\n",
      "    Uninstalling protobuf-5.29.5:\n",
      "      Successfully uninstalled protobuf-5.29.5\n",
      "Successfully installed protobuf-3.19.6\n"
     ]
    },
    {
     "name": "stderr",
     "output_type": "stream",
     "text": [
      "ERROR: pip's dependency resolver does not currently take into account all the packages that are installed. This behaviour is the source of the following dependency conflicts.\n",
      "tensorflow 2.19.0 requires keras>=3.5.0, but you have keras 2.3.1 which is incompatible.\n",
      "tensorflow 2.19.0 requires protobuf!=4.21.0,!=4.21.1,!=4.21.2,!=4.21.3,!=4.21.4,!=4.21.5,<6.0.0dev,>=3.20.3, but you have protobuf 3.19.6 which is incompatible.\n"
     ]
    },
    {
     "name": "stdout",
     "output_type": "stream",
     "text": [
      "Collecting opencv-python==4.4.0.46\n",
      "  Downloading opencv_python-4.4.0.46-cp39-cp39-win_amd64.whl.metadata (16 kB)\n",
      "Requirement already satisfied: numpy>=1.19.3 in c:\\users\\mahes\\appdata\\local\\programs\\python\\python39\\lib\\site-packages (from opencv-python==4.4.0.46) (1.26.4)\n",
      "Downloading opencv_python-4.4.0.46-cp39-cp39-win_amd64.whl (33.5 MB)\n",
      "   ---------------------------------------- 0.0/33.5 MB ? eta -:--:--\n",
      "   ---------------------------------------- 0.3/33.5 MB ? eta -:--:--\n",
      "    --------------------------------------- 0.5/33.5 MB 4.2 MB/s eta 0:00:08\n",
      "   - -------------------------------------- 1.0/33.5 MB 2.0 MB/s eta 0:00:17\n",
      "   - -------------------------------------- 1.3/33.5 MB 1.8 MB/s eta 0:00:18\n",
      "   - -------------------------------------- 1.6/33.5 MB 1.7 MB/s eta 0:00:19\n",
      "   -- ------------------------------------- 1.8/33.5 MB 1.7 MB/s eta 0:00:19\n",
      "   --- ------------------------------------ 2.6/33.5 MB 2.0 MB/s eta 0:00:16\n",
      "   --- ------------------------------------ 2.9/33.5 MB 2.0 MB/s eta 0:00:15\n",
      "   --- ------------------------------------ 3.1/33.5 MB 1.8 MB/s eta 0:00:17\n",
      "   --- ------------------------------------ 3.1/33.5 MB 1.8 MB/s eta 0:00:17\n",
      "   ---- ----------------------------------- 3.4/33.5 MB 1.6 MB/s eta 0:00:20\n",
      "   ----- ---------------------------------- 4.2/33.5 MB 1.7 MB/s eta 0:00:17\n",
      "   ----- ---------------------------------- 4.7/33.5 MB 1.8 MB/s eta 0:00:16\n",
      "   ------ --------------------------------- 5.2/33.5 MB 1.9 MB/s eta 0:00:15\n",
      "   ------ --------------------------------- 5.5/33.5 MB 1.8 MB/s eta 0:00:16\n",
      "   ------ --------------------------------- 5.8/33.5 MB 1.8 MB/s eta 0:00:16\n",
      "   ------- -------------------------------- 6.0/33.5 MB 1.8 MB/s eta 0:00:16\n",
      "   ------- -------------------------------- 6.3/33.5 MB 1.8 MB/s eta 0:00:16\n",
      "   ------- -------------------------------- 6.6/33.5 MB 1.7 MB/s eta 0:00:16\n",
      "   -------- ------------------------------- 7.1/33.5 MB 1.8 MB/s eta 0:00:15\n",
      "   --------- ------------------------------ 7.6/33.5 MB 1.8 MB/s eta 0:00:15\n",
      "   --------- ------------------------------ 8.1/33.5 MB 1.9 MB/s eta 0:00:14\n",
      "   ---------- ----------------------------- 9.2/33.5 MB 2.0 MB/s eta 0:00:13\n",
      "   ----------- ---------------------------- 9.7/33.5 MB 2.0 MB/s eta 0:00:12\n",
      "   ------------ --------------------------- 10.5/33.5 MB 2.1 MB/s eta 0:00:12\n",
      "   ------------- -------------------------- 11.3/33.5 MB 2.2 MB/s eta 0:00:11\n",
      "   ------------- -------------------------- 11.5/33.5 MB 2.2 MB/s eta 0:00:11\n",
      "   ------------- -------------------------- 11.5/33.5 MB 2.2 MB/s eta 0:00:11\n",
      "   -------------- ------------------------- 12.3/33.5 MB 2.1 MB/s eta 0:00:11\n",
      "   --------------- ------------------------ 13.1/33.5 MB 2.1 MB/s eta 0:00:10\n",
      "   --------------- ------------------------ 13.4/33.5 MB 2.1 MB/s eta 0:00:10\n",
      "   ---------------- ----------------------- 13.9/33.5 MB 2.1 MB/s eta 0:00:10\n",
      "   ----------------- ---------------------- 14.4/33.5 MB 2.2 MB/s eta 0:00:09\n",
      "   ----------------- ---------------------- 14.7/33.5 MB 2.1 MB/s eta 0:00:09\n",
      "   ----------------- ---------------------- 14.9/33.5 MB 2.1 MB/s eta 0:00:09\n",
      "   ------------------ --------------------- 15.7/33.5 MB 2.1 MB/s eta 0:00:09\n",
      "   ------------------- -------------------- 16.5/33.5 MB 2.2 MB/s eta 0:00:08\n",
      "   -------------------- ------------------- 16.8/33.5 MB 2.2 MB/s eta 0:00:08\n",
      "   -------------------- ------------------- 17.0/33.5 MB 2.2 MB/s eta 0:00:08\n",
      "   --------------------- ------------------ 17.8/33.5 MB 2.2 MB/s eta 0:00:08\n",
      "   --------------------- ------------------ 17.8/33.5 MB 2.2 MB/s eta 0:00:08\n",
      "   ---------------------- ----------------- 18.9/33.5 MB 2.2 MB/s eta 0:00:07\n",
      "   ---------------------- ----------------- 18.9/33.5 MB 2.2 MB/s eta 0:00:07\n",
      "   ---------------------- ----------------- 18.9/33.5 MB 2.2 MB/s eta 0:00:07\n",
      "   ---------------------- ----------------- 18.9/33.5 MB 2.2 MB/s eta 0:00:07\n",
      "   ----------------------- ---------------- 19.4/33.5 MB 2.1 MB/s eta 0:00:07\n",
      "   ------------------------ --------------- 20.2/33.5 MB 2.1 MB/s eta 0:00:07\n",
      "   ------------------------- -------------- 21.0/33.5 MB 2.1 MB/s eta 0:00:06\n",
      "   ------------------------- -------------- 21.0/33.5 MB 2.1 MB/s eta 0:00:06\n",
      "   ------------------------- -------------- 21.2/33.5 MB 2.1 MB/s eta 0:00:06\n",
      "   ------------------------- -------------- 21.5/33.5 MB 2.1 MB/s eta 0:00:06\n",
      "   -------------------------- ------------- 22.0/33.5 MB 2.1 MB/s eta 0:00:06\n",
      "   -------------------------- ------------- 22.5/33.5 MB 2.1 MB/s eta 0:00:06\n",
      "   --------------------------- ------------ 23.1/33.5 MB 2.1 MB/s eta 0:00:06\n",
      "   --------------------------- ------------ 23.1/33.5 MB 2.1 MB/s eta 0:00:06\n",
      "   --------------------------- ------------ 23.1/33.5 MB 2.1 MB/s eta 0:00:06\n",
      "   --------------------------- ------------ 23.1/33.5 MB 2.1 MB/s eta 0:00:06\n",
      "   --------------------------- ------------ 23.1/33.5 MB 2.1 MB/s eta 0:00:06\n",
      "   --------------------------- ------------ 23.3/33.5 MB 1.9 MB/s eta 0:00:06\n",
      "   ---------------------------- ----------- 23.6/33.5 MB 1.9 MB/s eta 0:00:06\n",
      "   ---------------------------- ----------- 23.6/33.5 MB 1.9 MB/s eta 0:00:06\n",
      "   ---------------------------- ----------- 23.9/33.5 MB 1.9 MB/s eta 0:00:06\n",
      "   ----------------------------- ---------- 24.4/33.5 MB 1.9 MB/s eta 0:00:05\n",
      "   ----------------------------- ---------- 24.6/33.5 MB 1.9 MB/s eta 0:00:05\n",
      "   ----------------------------- ---------- 24.6/33.5 MB 1.9 MB/s eta 0:00:05\n",
      "   ----------------------------- ---------- 24.9/33.5 MB 1.8 MB/s eta 0:00:05\n",
      "   ------------------------------ --------- 25.2/33.5 MB 1.8 MB/s eta 0:00:05\n",
      "   ------------------------------ --------- 25.4/33.5 MB 1.8 MB/s eta 0:00:05\n",
      "   ------------------------------ --------- 26.0/33.5 MB 1.8 MB/s eta 0:00:05\n",
      "   ------------------------------- -------- 26.2/33.5 MB 1.8 MB/s eta 0:00:05\n",
      "   ------------------------------- -------- 26.5/33.5 MB 1.8 MB/s eta 0:00:04\n",
      "   ------------------------------- -------- 26.5/33.5 MB 1.8 MB/s eta 0:00:04\n",
      "   ------------------------------- -------- 26.7/33.5 MB 1.8 MB/s eta 0:00:04\n",
      "   ------------------------------- -------- 26.7/33.5 MB 1.8 MB/s eta 0:00:04\n",
      "   -------------------------------- ------- 27.0/33.5 MB 1.7 MB/s eta 0:00:04\n",
      "   -------------------------------- ------- 27.3/33.5 MB 1.7 MB/s eta 0:00:04\n",
      "   -------------------------------- ------- 27.5/33.5 MB 1.7 MB/s eta 0:00:04\n",
      "   --------------------------------- ------ 27.8/33.5 MB 1.7 MB/s eta 0:00:04\n",
      "   --------------------------------- ------ 28.0/33.5 MB 1.7 MB/s eta 0:00:04\n",
      "   --------------------------------- ------ 28.3/33.5 MB 1.7 MB/s eta 0:00:04\n",
      "   ---------------------------------- ----- 28.6/33.5 MB 1.7 MB/s eta 0:00:03\n",
      "   ---------------------------------- ----- 28.8/33.5 MB 1.7 MB/s eta 0:00:03\n",
      "   ---------------------------------- ----- 29.1/33.5 MB 1.7 MB/s eta 0:00:03\n",
      "   ----------------------------------- ---- 29.4/33.5 MB 1.7 MB/s eta 0:00:03\n",
      "   ----------------------------------- ---- 29.6/33.5 MB 1.7 MB/s eta 0:00:03\n",
      "   ----------------------------------- ---- 29.9/33.5 MB 1.7 MB/s eta 0:00:03\n",
      "   ----------------------------------- ---- 30.1/33.5 MB 1.7 MB/s eta 0:00:03\n",
      "   ------------------------------------ --- 30.4/33.5 MB 1.7 MB/s eta 0:00:02\n",
      "   ------------------------------------ --- 30.7/33.5 MB 1.7 MB/s eta 0:00:02\n",
      "   ------------------------------------ --- 30.9/33.5 MB 1.7 MB/s eta 0:00:02\n",
      "   ------------------------------------ --- 30.9/33.5 MB 1.7 MB/s eta 0:00:02\n",
      "   ------------------------------------- -- 31.2/33.5 MB 1.6 MB/s eta 0:00:02\n",
      "   ------------------------------------- -- 31.5/33.5 MB 1.6 MB/s eta 0:00:02\n",
      "   ------------------------------------- -- 31.5/33.5 MB 1.6 MB/s eta 0:00:02\n",
      "   ------------------------------------- -- 31.5/33.5 MB 1.6 MB/s eta 0:00:02\n",
      "   ------------------------------------- -- 31.7/33.5 MB 1.6 MB/s eta 0:00:02\n",
      "   -------------------------------------- - 32.0/33.5 MB 1.6 MB/s eta 0:00:01\n",
      "   -------------------------------------- - 32.2/33.5 MB 1.6 MB/s eta 0:00:01\n",
      "   -------------------------------------- - 32.2/33.5 MB 1.6 MB/s eta 0:00:01\n",
      "   -------------------------------------- - 32.2/33.5 MB 1.6 MB/s eta 0:00:01\n",
      "   -------------------------------------- - 32.5/33.5 MB 1.5 MB/s eta 0:00:01\n",
      "   -------------------------------------- - 32.5/33.5 MB 1.5 MB/s eta 0:00:01\n",
      "   -------------------------------------- - 32.5/33.5 MB 1.5 MB/s eta 0:00:01\n",
      "   ---------------------------------------  32.8/33.5 MB 1.5 MB/s eta 0:00:01\n",
      "   ---------------------------------------  32.8/33.5 MB 1.5 MB/s eta 0:00:01\n",
      "   ---------------------------------------  32.8/33.5 MB 1.5 MB/s eta 0:00:01\n",
      "   ---------------------------------------  33.0/33.5 MB 1.5 MB/s eta 0:00:01\n",
      "   ---------------------------------------  33.0/33.5 MB 1.5 MB/s eta 0:00:01\n",
      "   ---------------------------------------  33.3/33.5 MB 1.5 MB/s eta 0:00:01\n",
      "   ---------------------------------------  33.3/33.5 MB 1.5 MB/s eta 0:00:01\n",
      "   ---------------------------------------  33.3/33.5 MB 1.5 MB/s eta 0:00:01\n",
      "   ---------------------------------------- 33.5/33.5 MB 1.4 MB/s  0:00:23\n",
      "Installing collected packages: opencv-python\n",
      "  Attempting uninstall: opencv-python\n",
      "    Found existing installation: opencv-python 4.11.0.86\n",
      "    Uninstalling opencv-python-4.11.0.86:\n",
      "      Successfully uninstalled opencv-python-4.11.0.86\n",
      "Successfully installed opencv-python-4.4.0.46\n",
      "Requirement already satisfied: scikit-learn in c:\\users\\mahes\\appdata\\local\\programs\\python\\python39\\lib\\site-packages (1.6.1)\n",
      "Requirement already satisfied: numpy>=1.19.5 in c:\\users\\mahes\\appdata\\local\\programs\\python\\python39\\lib\\site-packages (from scikit-learn) (1.26.4)\n",
      "Requirement already satisfied: scipy>=1.6.0 in c:\\users\\mahes\\appdata\\local\\programs\\python\\python39\\lib\\site-packages (from scikit-learn) (1.13.1)\n",
      "Requirement already satisfied: joblib>=1.2.0 in c:\\users\\mahes\\appdata\\local\\programs\\python\\python39\\lib\\site-packages (from scikit-learn) (1.5.1)\n",
      "Requirement already satisfied: threadpoolctl>=3.1.0 in c:\\users\\mahes\\appdata\\local\\programs\\python\\python39\\lib\\site-packages (from scikit-learn) (3.6.0)\n",
      "Collecting matplotlib\n",
      "  Downloading matplotlib-3.9.4-cp39-cp39-win_amd64.whl.metadata (11 kB)\n",
      "Collecting contourpy>=1.0.1 (from matplotlib)\n",
      "  Downloading contourpy-1.3.0-cp39-cp39-win_amd64.whl.metadata (5.4 kB)\n",
      "Collecting cycler>=0.10 (from matplotlib)\n",
      "  Using cached cycler-0.12.1-py3-none-any.whl.metadata (3.8 kB)\n",
      "Collecting fonttools>=4.22.0 (from matplotlib)\n",
      "  Downloading fonttools-4.59.0-cp39-cp39-win_amd64.whl.metadata (110 kB)\n",
      "Collecting kiwisolver>=1.3.1 (from matplotlib)\n",
      "  Downloading kiwisolver-1.4.7-cp39-cp39-win_amd64.whl.metadata (6.4 kB)\n",
      "Requirement already satisfied: numpy>=1.23 in c:\\users\\mahes\\appdata\\local\\programs\\python\\python39\\lib\\site-packages (from matplotlib) (1.26.4)\n",
      "Requirement already satisfied: packaging>=20.0 in c:\\users\\mahes\\appdata\\local\\programs\\python\\python39\\lib\\site-packages (from matplotlib) (25.0)\n",
      "Requirement already satisfied: pillow>=8 in c:\\users\\mahes\\appdata\\local\\programs\\python\\python39\\lib\\site-packages (from matplotlib) (11.3.0)\n",
      "Collecting pyparsing>=2.3.1 (from matplotlib)\n",
      "  Using cached pyparsing-3.2.3-py3-none-any.whl.metadata (5.0 kB)\n",
      "Requirement already satisfied: python-dateutil>=2.7 in c:\\users\\mahes\\appdata\\roaming\\python\\python39\\site-packages (from matplotlib) (2.9.0.post0)\n",
      "Collecting importlib-resources>=3.2.0 (from matplotlib)\n",
      "  Downloading importlib_resources-6.5.2-py3-none-any.whl.metadata (3.9 kB)\n",
      "Requirement already satisfied: zipp>=3.1.0 in c:\\users\\mahes\\appdata\\local\\programs\\python\\python39\\lib\\site-packages (from importlib-resources>=3.2.0->matplotlib) (3.23.0)\n",
      "Requirement already satisfied: six>=1.5 in c:\\users\\mahes\\appdata\\local\\programs\\python\\python39\\lib\\site-packages (from python-dateutil>=2.7->matplotlib) (1.17.0)\n",
      "Downloading matplotlib-3.9.4-cp39-cp39-win_amd64.whl (7.8 MB)\n",
      "   ---------------------------------------- 0.0/7.8 MB ? eta -:--:--\n",
      "   ---------------------------------------- 0.0/7.8 MB ? eta -:--:--\n",
      "   - -------------------------------------- 0.3/7.8 MB ? eta -:--:--\n",
      "   -- ------------------------------------- 0.5/7.8 MB 932.9 kB/s eta 0:00:08\n",
      "   ---- ----------------------------------- 0.8/7.8 MB 1.0 MB/s eta 0:00:07\n",
      "   ---- ----------------------------------- 0.8/7.8 MB 1.0 MB/s eta 0:00:07\n",
      "   ---- ----------------------------------- 0.8/7.8 MB 1.0 MB/s eta 0:00:07\n",
      "   ----- ---------------------------------- 1.0/7.8 MB 719.5 kB/s eta 0:00:10\n",
      "   ------ --------------------------------- 1.3/7.8 MB 780.8 kB/s eta 0:00:09\n",
      "   -------- ------------------------------- 1.6/7.8 MB 791.5 kB/s eta 0:00:08\n",
      "   -------- ------------------------------- 1.6/7.8 MB 791.5 kB/s eta 0:00:08\n",
      "   --------- ------------------------------ 1.8/7.8 MB 792.8 kB/s eta 0:00:08\n",
      "   --------- ------------------------------ 1.8/7.8 MB 792.8 kB/s eta 0:00:08\n",
      "   ---------- ----------------------------- 2.1/7.8 MB 783.2 kB/s eta 0:00:08\n",
      "   ------------ --------------------------- 2.4/7.8 MB 798.9 kB/s eta 0:00:07\n",
      "   ------------- -------------------------- 2.6/7.8 MB 820.6 kB/s eta 0:00:07\n",
      "   ------------- -------------------------- 2.6/7.8 MB 820.6 kB/s eta 0:00:07\n",
      "   -------------- ------------------------- 2.9/7.8 MB 806.6 kB/s eta 0:00:07\n",
      "   -------------- ------------------------- 2.9/7.8 MB 806.6 kB/s eta 0:00:07\n",
      "   ---------------- ----------------------- 3.1/7.8 MB 772.2 kB/s eta 0:00:07\n",
      "   ---------------- ----------------------- 3.1/7.8 MB 772.2 kB/s eta 0:00:07\n",
      "   ----------------- ---------------------- 3.4/7.8 MB 751.3 kB/s eta 0:00:06\n",
      "   ----------------- ---------------------- 3.4/7.8 MB 751.3 kB/s eta 0:00:06\n",
      "   ------------------ --------------------- 3.7/7.8 MB 749.6 kB/s eta 0:00:06\n",
      "   -------------------- ------------------- 3.9/7.8 MB 770.2 kB/s eta 0:00:06\n",
      "   --------------------- ------------------ 4.2/7.8 MB 789.0 kB/s eta 0:00:05\n",
      "   --------------------- ------------------ 4.2/7.8 MB 789.0 kB/s eta 0:00:05\n",
      "   ---------------------- ----------------- 4.5/7.8 MB 780.3 kB/s eta 0:00:05\n",
      "   ------------------------ --------------- 4.7/7.8 MB 794.5 kB/s eta 0:00:04\n",
      "   ------------------------- -------------- 5.0/7.8 MB 803.2 kB/s eta 0:00:04\n",
      "   -------------------------- ------------- 5.2/7.8 MB 821.6 kB/s eta 0:00:04\n",
      "   ---------------------------- ----------- 5.5/7.8 MB 830.6 kB/s eta 0:00:03\n",
      "   ----------------------------- ---------- 5.8/7.8 MB 845.0 kB/s eta 0:00:03\n",
      "   ------------------------------ --------- 6.0/7.8 MB 856.4 kB/s eta 0:00:03\n",
      "   -------------------------------- ------- 6.3/7.8 MB 869.2 kB/s eta 0:00:02\n",
      "   --------------------------------- ------ 6.6/7.8 MB 883.0 kB/s eta 0:00:02\n",
      "   ---------------------------------- ----- 6.8/7.8 MB 898.2 kB/s eta 0:00:02\n",
      "   ------------------------------------ --- 7.1/7.8 MB 914.5 kB/s eta 0:00:01\n",
      "   -------------------------------------- - 7.6/7.8 MB 941.5 kB/s eta 0:00:01\n",
      "   ---------------------------------------- 7.8/7.8 MB 950.7 kB/s  0:00:08\n",
      "Downloading contourpy-1.3.0-cp39-cp39-win_amd64.whl (211 kB)\n",
      "Using cached cycler-0.12.1-py3-none-any.whl (8.3 kB)\n",
      "Downloading fonttools-4.59.0-cp39-cp39-win_amd64.whl (1.5 MB)\n",
      "   ---------------------------------------- 0.0/1.5 MB ? eta -:--:--\n",
      "   ------ --------------------------------- 0.3/1.5 MB ? eta -:--:--\n",
      "   ------------- -------------------------- 0.5/1.5 MB 1.3 MB/s eta 0:00:01\n",
      "   -------------------- ------------------- 0.8/1.5 MB 1.4 MB/s eta 0:00:01\n",
      "   -------------------- ------------------- 0.8/1.5 MB 1.4 MB/s eta 0:00:01\n",
      "   --------------------------- ------------ 1.0/1.5 MB 1.1 MB/s eta 0:00:01\n",
      "   --------------------------- ------------ 1.0/1.5 MB 1.1 MB/s eta 0:00:01\n",
      "   ---------------------------------- ----- 1.3/1.5 MB 907.1 kB/s eta 0:00:01\n",
      "   ---------------------------------------- 1.5/1.5 MB 891.6 kB/s  0:00:01\n",
      "Downloading importlib_resources-6.5.2-py3-none-any.whl (37 kB)\n",
      "Downloading kiwisolver-1.4.7-cp39-cp39-win_amd64.whl (55 kB)\n",
      "Using cached pyparsing-3.2.3-py3-none-any.whl (111 kB)\n",
      "Installing collected packages: pyparsing, kiwisolver, importlib-resources, fonttools, cycler, contourpy, matplotlib\n",
      "\n",
      "   ---------------------------------------- 0/7 [pyparsing]\n",
      "   ----------- ---------------------------- 2/7 [importlib-resources]\n",
      "   ----------------- ---------------------- 3/7 [fonttools]\n",
      "   ----------------- ---------------------- 3/7 [fonttools]\n",
      "   ----------------- ---------------------- 3/7 [fonttools]\n",
      "   ----------------- ---------------------- 3/7 [fonttools]\n",
      "   ----------------- ---------------------- 3/7 [fonttools]\n",
      "   ----------------- ---------------------- 3/7 [fonttools]\n",
      "   ----------------- ---------------------- 3/7 [fonttools]\n",
      "   ----------------- ---------------------- 3/7 [fonttools]\n",
      "   ----------------- ---------------------- 3/7 [fonttools]\n",
      "   ----------------- ---------------------- 3/7 [fonttools]\n",
      "   ----------------- ---------------------- 3/7 [fonttools]\n",
      "   ----------------- ---------------------- 3/7 [fonttools]\n",
      "   ----------------- ---------------------- 3/7 [fonttools]\n",
      "   ----------------- ---------------------- 3/7 [fonttools]\n",
      "   ----------------- ---------------------- 3/7 [fonttools]\n",
      "   ---------------------------------- ----- 6/7 [matplotlib]\n",
      "   ---------------------------------- ----- 6/7 [matplotlib]\n",
      "   ---------------------------------- ----- 6/7 [matplotlib]\n",
      "   ---------------------------------- ----- 6/7 [matplotlib]\n",
      "   ---------------------------------- ----- 6/7 [matplotlib]\n",
      "   ---------------------------------- ----- 6/7 [matplotlib]\n",
      "   ---------------------------------- ----- 6/7 [matplotlib]\n",
      "   ---------------------------------- ----- 6/7 [matplotlib]\n",
      "   ---------------------------------- ----- 6/7 [matplotlib]\n",
      "   ---------------------------------- ----- 6/7 [matplotlib]\n",
      "   ---------------------------------- ----- 6/7 [matplotlib]\n",
      "   ---------------------------------- ----- 6/7 [matplotlib]\n",
      "   ---------------------------------- ----- 6/7 [matplotlib]\n",
      "   ---------------------------------- ----- 6/7 [matplotlib]\n",
      "   ---------------------------------- ----- 6/7 [matplotlib]\n",
      "   ---------------------------------- ----- 6/7 [matplotlib]\n",
      "   ---------------------------------- ----- 6/7 [matplotlib]\n",
      "   ---------------------------------- ----- 6/7 [matplotlib]\n",
      "   ---------------------------------- ----- 6/7 [matplotlib]\n",
      "   ---------------------------------------- 7/7 [matplotlib]\n",
      "\n",
      "Successfully installed contourpy-1.3.0 cycler-0.12.1 fonttools-4.59.0 importlib-resources-6.5.2 kiwisolver-1.4.7 matplotlib-3.9.4 pyparsing-3.2.3\n",
      "Requirement already satisfied: numpy in c:\\users\\mahes\\appdata\\local\\programs\\python\\python39\\lib\\site-packages (1.26.4)\n"
     ]
    }
   ],
   "source": [
    "!pip install keras==2.3.1\n",
    "!pip install tensorflow==2.2.0\n",
    "!pip install protobuf==3.19.6                                                                \n",
    "!pip install opencv-python==4.4.0.46\n",
    "!pip install scikit-learn\n",
    "!pip install matplotlib\n",
    "!pip install numpy"
   ]
  },
  {
   "cell_type": "code",
   "execution_count": 2,
   "id": "3ea753a9",
   "metadata": {},
   "outputs": [],
   "source": [
    "import numpy as np\n",
    "import cv2\n",
    "import matplotlib.pyplot as plt\n",
    "from sklearn.model_selection import train_test_split"
   ]
  },
  {
   "cell_type": "code",
   "execution_count": 4,
   "id": "10937d82",
   "metadata": {},
   "outputs": [],
   "source": [
    "from keras.utils import to_categorical\n",
    "from keras.layers import MaxPooling2D\n",
    "from keras.layers import Dense, Dropout, Activation, Flatten\n",
    "from keras.layers import Convolution2D\n",
    "from keras.models import Sequential\n",
    "from keras.models import model_from_json"
   ]
  },
  {
   "cell_type": "code",
   "execution_count": 5,
   "id": "f990cb84",
   "metadata": {},
   "outputs": [],
   "source": [
    "IMG_SIZE=128"
   ]
  },
  {
   "cell_type": "code",
   "execution_count": 6,
   "id": "510c45a8",
   "metadata": {},
   "outputs": [],
   "source": [
    "import os"
   ]
  },
  {
   "cell_type": "code",
   "execution_count": 7,
   "id": "9c43cc37",
   "metadata": {},
   "outputs": [],
   "source": [
    "def loaddataset(basepath):\n",
    "  X,Y=[],[]\n",
    "  for label, folder in enumerate(['no','yes']):\n",
    "    folder_path=os.path.join(basepath,folder)\n",
    "    for file in os.listdir(folder_path):\n",
    "      path=os.path.join(folder_path,file)\n",
    "      print(path)\n",
    "      img=cv2.imread(path,0)\n",
    "      if img is None:\n",
    "        continue\n",
    "      #img=cv2.resize(img,IMG_SIZE,IMG_SIZE)\n",
    "      #img=cv2.reshape(img,IMG_SIZE,IMG_SIZE,1)\n",
    "      img = cv2.resize(img, (IMG_SIZE, IMG_SIZE))\n",
    "      img = img.reshape(IMG_SIZE, IMG_SIZE, 1)\n",
    "\n",
    "      X.append(img)\n",
    "      Y.append(label)\n",
    "  return np.array(X), np.array(Y)"
   ]
  },
  {
   "cell_type": "code",
   "execution_count": 9,
   "id": "8d11dab1",
   "metadata": {},
   "outputs": [
    {
     "name": "stdout",
     "output_type": "stream",
     "text": [
      "C://Users//mahes//OneDrive//Desktop//Pro3_Kidney//dataset\\no\\1 no.jpeg\n",
      "C://Users//mahes//OneDrive//Desktop//Pro3_Kidney//dataset\\no\\10 no.jpg\n",
      "C://Users//mahes//OneDrive//Desktop//Pro3_Kidney//dataset\\no\\11 no.jpg\n",
      "C://Users//mahes//OneDrive//Desktop//Pro3_Kidney//dataset\\no\\12 no.jpg\n",
      "C://Users//mahes//OneDrive//Desktop//Pro3_Kidney//dataset\\no\\13 no.jpg\n",
      "C://Users//mahes//OneDrive//Desktop//Pro3_Kidney//dataset\\no\\14 no.jpg\n",
      "C://Users//mahes//OneDrive//Desktop//Pro3_Kidney//dataset\\no\\15 no.jpg\n",
      "C://Users//mahes//OneDrive//Desktop//Pro3_Kidney//dataset\\no\\17 no.jpg\n",
      "C://Users//mahes//OneDrive//Desktop//Pro3_Kidney//dataset\\no\\18 no.jpg\n",
      "C://Users//mahes//OneDrive//Desktop//Pro3_Kidney//dataset\\no\\19 no.jpg\n",
      "C://Users//mahes//OneDrive//Desktop//Pro3_Kidney//dataset\\no\\2 no.jpeg\n",
      "C://Users//mahes//OneDrive//Desktop//Pro3_Kidney//dataset\\no\\20 no.jpg\n",
      "C://Users//mahes//OneDrive//Desktop//Pro3_Kidney//dataset\\no\\21 no.jpg\n",
      "C://Users//mahes//OneDrive//Desktop//Pro3_Kidney//dataset\\no\\3 no.jpg\n",
      "C://Users//mahes//OneDrive//Desktop//Pro3_Kidney//dataset\\no\\4 no.jpg\n",
      "C://Users//mahes//OneDrive//Desktop//Pro3_Kidney//dataset\\no\\5 no.jpg\n",
      "C://Users//mahes//OneDrive//Desktop//Pro3_Kidney//dataset\\no\\6 no.jpg\n",
      "C://Users//mahes//OneDrive//Desktop//Pro3_Kidney//dataset\\no\\7 no.jpg\n",
      "C://Users//mahes//OneDrive//Desktop//Pro3_Kidney//dataset\\no\\8 no.jpg\n",
      "C://Users//mahes//OneDrive//Desktop//Pro3_Kidney//dataset\\no\\9 no.jpg\n",
      "C://Users//mahes//OneDrive//Desktop//Pro3_Kidney//dataset\\yes\\Y1.jpg\n",
      "C://Users//mahes//OneDrive//Desktop//Pro3_Kidney//dataset\\yes\\Y10.jpg\n",
      "C://Users//mahes//OneDrive//Desktop//Pro3_Kidney//dataset\\yes\\Y11.jpg\n",
      "C://Users//mahes//OneDrive//Desktop//Pro3_Kidney//dataset\\yes\\Y12.jpg\n",
      "C://Users//mahes//OneDrive//Desktop//Pro3_Kidney//dataset\\yes\\Y13.jpg\n",
      "C://Users//mahes//OneDrive//Desktop//Pro3_Kidney//dataset\\yes\\Y14.jpg\n",
      "C://Users//mahes//OneDrive//Desktop//Pro3_Kidney//dataset\\yes\\Y15.jpg\n",
      "C://Users//mahes//OneDrive//Desktop//Pro3_Kidney//dataset\\yes\\Y16.JPG\n",
      "C://Users//mahes//OneDrive//Desktop//Pro3_Kidney//dataset\\yes\\Y17.jpg\n",
      "C://Users//mahes//OneDrive//Desktop//Pro3_Kidney//dataset\\yes\\Y18.JPG\n",
      "C://Users//mahes//OneDrive//Desktop//Pro3_Kidney//dataset\\yes\\Y19.JPG\n",
      "C://Users//mahes//OneDrive//Desktop//Pro3_Kidney//dataset\\yes\\Y2.jpg\n",
      "C://Users//mahes//OneDrive//Desktop//Pro3_Kidney//dataset\\yes\\Y20.jpg\n",
      "C://Users//mahes//OneDrive//Desktop//Pro3_Kidney//dataset\\yes\\Y21.jpg\n",
      "C://Users//mahes//OneDrive//Desktop//Pro3_Kidney//dataset\\yes\\Y3.jpg\n",
      "C://Users//mahes//OneDrive//Desktop//Pro3_Kidney//dataset\\yes\\Y4.jpg\n",
      "C://Users//mahes//OneDrive//Desktop//Pro3_Kidney//dataset\\yes\\Y6.jpg\n",
      "C://Users//mahes//OneDrive//Desktop//Pro3_Kidney//dataset\\yes\\Y7.jpg\n",
      "C://Users//mahes//OneDrive//Desktop//Pro3_Kidney//dataset\\yes\\Y8.jpg\n",
      "C://Users//mahes//OneDrive//Desktop//Pro3_Kidney//dataset\\yes\\Y9.jpg\n"
     ]
    }
   ],
   "source": [
    "# ...existing code...\n",
    "sr = \"C://Users//mahes//OneDrive//Desktop//Pro3_Kidney//dataset\"\n",
    "X, Y = loaddataset(sr)\n",
    "# ...existing code..."
   ]
  },
  {
   "cell_type": "code",
   "execution_count": 10,
   "id": "e19c573a",
   "metadata": {},
   "outputs": [],
   "source": [
    "X = X.astype(\"float\")/255.0\n",
    "Y = to_categorical(Y)\n",
    "X_train,X_test,y_train,y_test = train_test_split(X,Y,test_size=0.2,random_state=42)"
   ]
  },
  {
   "cell_type": "code",
   "execution_count": 11,
   "id": "fa1fe0f6",
   "metadata": {},
   "outputs": [
    {
     "name": "stderr",
     "output_type": "stream",
     "text": [
      "c:\\Users\\mahes\\AppData\\Local\\Programs\\Python\\Python39\\lib\\site-packages\\keras\\src\\layers\\convolutional\\base_conv.py:113: UserWarning: Do not pass an `input_shape`/`input_dim` argument to a layer. When using Sequential models, prefer using an `Input(shape)` object as the first layer in the model instead.\n",
      "  super().__init__(activity_regularizer=activity_regularizer, **kwargs)\n"
     ]
    }
   ],
   "source": [
    "model = Sequential()\n",
    "model.add(Convolution2D(32, (3, 3), input_shape=(128, 128, 1), activation='relu'))\n",
    "model.add(MaxPooling2D(pool_size=(2, 2)))\n",
    "model.add(Convolution2D(32, (3, 3), activation='relu'))\n",
    "model.add(MaxPooling2D(pool_size=(2, 2)))\n",
    "model.add(Flatten())\n",
    "model.add(Dense(128, activation='relu'))\n",
    "model.add(Dense(2, activation='softmax'))"
   ]
  },
  {
   "cell_type": "code",
   "execution_count": 12,
   "id": "77477901",
   "metadata": {},
   "outputs": [],
   "source": [
    "import pickle"
   ]
  },
  {
   "cell_type": "code",
   "execution_count": 14,
   "id": "1eca40ad",
   "metadata": {},
   "outputs": [
    {
     "data": {
      "text/html": [
       "<pre style=\"white-space:pre;overflow-x:auto;line-height:normal;font-family:Menlo,'DejaVu Sans Mono',consolas,'Courier New',monospace\"><span style=\"font-weight: bold\">Model: \"sequential\"</span>\n",
       "</pre>\n"
      ],
      "text/plain": [
       "\u001b[1mModel: \"sequential\"\u001b[0m\n"
      ]
     },
     "metadata": {},
     "output_type": "display_data"
    },
    {
     "data": {
      "text/html": [
       "<pre style=\"white-space:pre;overflow-x:auto;line-height:normal;font-family:Menlo,'DejaVu Sans Mono',consolas,'Courier New',monospace\">┏━━━━━━━━━━━━━━━━━━━━━━━━━━━━━━━━━┳━━━━━━━━━━━━━━━━━━━━━━━━┳━━━━━━━━━━━━━━━┓\n",
       "┃<span style=\"font-weight: bold\"> Layer (type)                    </span>┃<span style=\"font-weight: bold\"> Output Shape           </span>┃<span style=\"font-weight: bold\">       Param # </span>┃\n",
       "┡━━━━━━━━━━━━━━━━━━━━━━━━━━━━━━━━━╇━━━━━━━━━━━━━━━━━━━━━━━━╇━━━━━━━━━━━━━━━┩\n",
       "│ conv2d (<span style=\"color: #0087ff; text-decoration-color: #0087ff\">Conv2D</span>)                 │ (<span style=\"color: #00d7ff; text-decoration-color: #00d7ff\">None</span>, <span style=\"color: #00af00; text-decoration-color: #00af00\">126</span>, <span style=\"color: #00af00; text-decoration-color: #00af00\">126</span>, <span style=\"color: #00af00; text-decoration-color: #00af00\">32</span>)   │           <span style=\"color: #00af00; text-decoration-color: #00af00\">320</span> │\n",
       "├─────────────────────────────────┼────────────────────────┼───────────────┤\n",
       "│ max_pooling2d (<span style=\"color: #0087ff; text-decoration-color: #0087ff\">MaxPooling2D</span>)    │ (<span style=\"color: #00d7ff; text-decoration-color: #00d7ff\">None</span>, <span style=\"color: #00af00; text-decoration-color: #00af00\">63</span>, <span style=\"color: #00af00; text-decoration-color: #00af00\">63</span>, <span style=\"color: #00af00; text-decoration-color: #00af00\">32</span>)     │             <span style=\"color: #00af00; text-decoration-color: #00af00\">0</span> │\n",
       "├─────────────────────────────────┼────────────────────────┼───────────────┤\n",
       "│ conv2d_1 (<span style=\"color: #0087ff; text-decoration-color: #0087ff\">Conv2D</span>)               │ (<span style=\"color: #00d7ff; text-decoration-color: #00d7ff\">None</span>, <span style=\"color: #00af00; text-decoration-color: #00af00\">61</span>, <span style=\"color: #00af00; text-decoration-color: #00af00\">61</span>, <span style=\"color: #00af00; text-decoration-color: #00af00\">32</span>)     │         <span style=\"color: #00af00; text-decoration-color: #00af00\">9,248</span> │\n",
       "├─────────────────────────────────┼────────────────────────┼───────────────┤\n",
       "│ max_pooling2d_1 (<span style=\"color: #0087ff; text-decoration-color: #0087ff\">MaxPooling2D</span>)  │ (<span style=\"color: #00d7ff; text-decoration-color: #00d7ff\">None</span>, <span style=\"color: #00af00; text-decoration-color: #00af00\">30</span>, <span style=\"color: #00af00; text-decoration-color: #00af00\">30</span>, <span style=\"color: #00af00; text-decoration-color: #00af00\">32</span>)     │             <span style=\"color: #00af00; text-decoration-color: #00af00\">0</span> │\n",
       "├─────────────────────────────────┼────────────────────────┼───────────────┤\n",
       "│ flatten (<span style=\"color: #0087ff; text-decoration-color: #0087ff\">Flatten</span>)               │ (<span style=\"color: #00d7ff; text-decoration-color: #00d7ff\">None</span>, <span style=\"color: #00af00; text-decoration-color: #00af00\">28800</span>)          │             <span style=\"color: #00af00; text-decoration-color: #00af00\">0</span> │\n",
       "├─────────────────────────────────┼────────────────────────┼───────────────┤\n",
       "│ dense (<span style=\"color: #0087ff; text-decoration-color: #0087ff\">Dense</span>)                   │ (<span style=\"color: #00d7ff; text-decoration-color: #00d7ff\">None</span>, <span style=\"color: #00af00; text-decoration-color: #00af00\">128</span>)            │     <span style=\"color: #00af00; text-decoration-color: #00af00\">3,686,528</span> │\n",
       "├─────────────────────────────────┼────────────────────────┼───────────────┤\n",
       "│ dense_1 (<span style=\"color: #0087ff; text-decoration-color: #0087ff\">Dense</span>)                 │ (<span style=\"color: #00d7ff; text-decoration-color: #00d7ff\">None</span>, <span style=\"color: #00af00; text-decoration-color: #00af00\">2</span>)              │           <span style=\"color: #00af00; text-decoration-color: #00af00\">258</span> │\n",
       "└─────────────────────────────────┴────────────────────────┴───────────────┘\n",
       "</pre>\n"
      ],
      "text/plain": [
       "┏━━━━━━━━━━━━━━━━━━━━━━━━━━━━━━━━━┳━━━━━━━━━━━━━━━━━━━━━━━━┳━━━━━━━━━━━━━━━┓\n",
       "┃\u001b[1m \u001b[0m\u001b[1mLayer (type)                   \u001b[0m\u001b[1m \u001b[0m┃\u001b[1m \u001b[0m\u001b[1mOutput Shape          \u001b[0m\u001b[1m \u001b[0m┃\u001b[1m \u001b[0m\u001b[1m      Param #\u001b[0m\u001b[1m \u001b[0m┃\n",
       "┡━━━━━━━━━━━━━━━━━━━━━━━━━━━━━━━━━╇━━━━━━━━━━━━━━━━━━━━━━━━╇━━━━━━━━━━━━━━━┩\n",
       "│ conv2d (\u001b[38;5;33mConv2D\u001b[0m)                 │ (\u001b[38;5;45mNone\u001b[0m, \u001b[38;5;34m126\u001b[0m, \u001b[38;5;34m126\u001b[0m, \u001b[38;5;34m32\u001b[0m)   │           \u001b[38;5;34m320\u001b[0m │\n",
       "├─────────────────────────────────┼────────────────────────┼───────────────┤\n",
       "│ max_pooling2d (\u001b[38;5;33mMaxPooling2D\u001b[0m)    │ (\u001b[38;5;45mNone\u001b[0m, \u001b[38;5;34m63\u001b[0m, \u001b[38;5;34m63\u001b[0m, \u001b[38;5;34m32\u001b[0m)     │             \u001b[38;5;34m0\u001b[0m │\n",
       "├─────────────────────────────────┼────────────────────────┼───────────────┤\n",
       "│ conv2d_1 (\u001b[38;5;33mConv2D\u001b[0m)               │ (\u001b[38;5;45mNone\u001b[0m, \u001b[38;5;34m61\u001b[0m, \u001b[38;5;34m61\u001b[0m, \u001b[38;5;34m32\u001b[0m)     │         \u001b[38;5;34m9,248\u001b[0m │\n",
       "├─────────────────────────────────┼────────────────────────┼───────────────┤\n",
       "│ max_pooling2d_1 (\u001b[38;5;33mMaxPooling2D\u001b[0m)  │ (\u001b[38;5;45mNone\u001b[0m, \u001b[38;5;34m30\u001b[0m, \u001b[38;5;34m30\u001b[0m, \u001b[38;5;34m32\u001b[0m)     │             \u001b[38;5;34m0\u001b[0m │\n",
       "├─────────────────────────────────┼────────────────────────┼───────────────┤\n",
       "│ flatten (\u001b[38;5;33mFlatten\u001b[0m)               │ (\u001b[38;5;45mNone\u001b[0m, \u001b[38;5;34m28800\u001b[0m)          │             \u001b[38;5;34m0\u001b[0m │\n",
       "├─────────────────────────────────┼────────────────────────┼───────────────┤\n",
       "│ dense (\u001b[38;5;33mDense\u001b[0m)                   │ (\u001b[38;5;45mNone\u001b[0m, \u001b[38;5;34m128\u001b[0m)            │     \u001b[38;5;34m3,686,528\u001b[0m │\n",
       "├─────────────────────────────────┼────────────────────────┼───────────────┤\n",
       "│ dense_1 (\u001b[38;5;33mDense\u001b[0m)                 │ (\u001b[38;5;45mNone\u001b[0m, \u001b[38;5;34m2\u001b[0m)              │           \u001b[38;5;34m258\u001b[0m │\n",
       "└─────────────────────────────────┴────────────────────────┴───────────────┘\n"
      ]
     },
     "metadata": {},
     "output_type": "display_data"
    },
    {
     "data": {
      "text/html": [
       "<pre style=\"white-space:pre;overflow-x:auto;line-height:normal;font-family:Menlo,'DejaVu Sans Mono',consolas,'Courier New',monospace\"><span style=\"font-weight: bold\"> Total params: </span><span style=\"color: #00af00; text-decoration-color: #00af00\">3,696,354</span> (14.10 MB)\n",
       "</pre>\n"
      ],
      "text/plain": [
       "\u001b[1m Total params: \u001b[0m\u001b[38;5;34m3,696,354\u001b[0m (14.10 MB)\n"
      ]
     },
     "metadata": {},
     "output_type": "display_data"
    },
    {
     "data": {
      "text/html": [
       "<pre style=\"white-space:pre;overflow-x:auto;line-height:normal;font-family:Menlo,'DejaVu Sans Mono',consolas,'Courier New',monospace\"><span style=\"font-weight: bold\"> Trainable params: </span><span style=\"color: #00af00; text-decoration-color: #00af00\">3,696,354</span> (14.10 MB)\n",
       "</pre>\n"
      ],
      "text/plain": [
       "\u001b[1m Trainable params: \u001b[0m\u001b[38;5;34m3,696,354\u001b[0m (14.10 MB)\n"
      ]
     },
     "metadata": {},
     "output_type": "display_data"
    },
    {
     "data": {
      "text/html": [
       "<pre style=\"white-space:pre;overflow-x:auto;line-height:normal;font-family:Menlo,'DejaVu Sans Mono',consolas,'Courier New',monospace\"><span style=\"font-weight: bold\"> Non-trainable params: </span><span style=\"color: #00af00; text-decoration-color: #00af00\">0</span> (0.00 B)\n",
       "</pre>\n"
      ],
      "text/plain": [
       "\u001b[1m Non-trainable params: \u001b[0m\u001b[38;5;34m0\u001b[0m (0.00 B)\n"
      ]
     },
     "metadata": {},
     "output_type": "display_data"
    },
    {
     "name": "stdout",
     "output_type": "stream",
     "text": [
      "Epoch 1/10\n",
      "2/2 - 2s - 918ms/step - accuracy: 0.8000 - loss: 0.5736 - val_accuracy: 0.4286 - val_loss: 0.7376\n",
      "Epoch 2/10\n",
      "2/2 - 0s - 108ms/step - accuracy: 1.0000 - loss: 0.0912 - val_accuracy: 0.5714 - val_loss: 1.3283\n",
      "Epoch 3/10\n",
      "2/2 - 0s - 112ms/step - accuracy: 0.8800 - loss: 0.2006 - val_accuracy: 0.4286 - val_loss: 1.0918\n",
      "Epoch 4/10\n",
      "2/2 - 0s - 103ms/step - accuracy: 0.9600 - loss: 0.1546 - val_accuracy: 0.7143 - val_loss: 0.7227\n",
      "Epoch 5/10\n",
      "2/2 - 0s - 106ms/step - accuracy: 1.0000 - loss: 0.1357 - val_accuracy: 0.4286 - val_loss: 0.7778\n",
      "Epoch 6/10\n",
      "2/2 - 0s - 115ms/step - accuracy: 1.0000 - loss: 0.0878 - val_accuracy: 0.4286 - val_loss: 1.0243\n",
      "Epoch 7/10\n",
      "2/2 - 0s - 131ms/step - accuracy: 1.0000 - loss: 0.0843 - val_accuracy: 0.4286 - val_loss: 1.1412\n",
      "Epoch 8/10\n",
      "2/2 - 0s - 118ms/step - accuracy: 1.0000 - loss: 0.0733 - val_accuracy: 0.4286 - val_loss: 1.0825\n",
      "Epoch 9/10\n",
      "2/2 - 0s - 129ms/step - accuracy: 1.0000 - loss: 0.0456 - val_accuracy: 0.5714 - val_loss: 0.9487\n",
      "Epoch 10/10\n",
      "2/2 - 0s - 124ms/step - accuracy: 1.0000 - loss: 0.0474 - val_accuracy: 0.5714 - val_loss: 1.0093\n"
     ]
    }
   ],
   "source": [
    "model.compile(optimizer='adam', \n",
    "              loss='categorical_crossentropy', \n",
    "              metrics=['accuracy'])\n",
    "model.summary()\n",
    "hist = model.fit(X_train, y_train, batch_size=16, epochs=10, validation_split=0.2, shuffle=True, verbose=2)\n",
    "# ...existing code...\n",
    "os.makedirs('Model', exist_ok=True)\n",
    "model.save_weights('Model/model.weights.h5')\n",
    "# ...existing code...\n"
   ]
  },
  {
   "cell_type": "code",
   "execution_count": 15,
   "id": "fd89b6f5",
   "metadata": {},
   "outputs": [],
   "source": [
    "import pickle"
   ]
  },
  {
   "cell_type": "code",
   "execution_count": 16,
   "id": "9c9c0521",
   "metadata": {},
   "outputs": [],
   "source": [
    "model_json = model.to_json()\n",
    "with open(\"Model/model.json\",\"w\")  as json_file:\n",
    "    json_file.write(model_json)\n",
    "\n",
    "f=open(\"Model/histoy.pckl\",\"wb\")\n",
    "pickle.dump(hist.history, f)\n",
    "f.close()"
   ]
  },
  {
   "cell_type": "code",
   "execution_count": 17,
   "id": "694cb2b5",
   "metadata": {},
   "outputs": [
    {
     "name": "stdout",
     "output_type": "stream",
     "text": [
      "0.012808493338525295\n",
      "1.0\n"
     ]
    }
   ],
   "source": [
    "loss,  accuracy = model.evaluate(X_test, y_test, verbose=0)\n",
    "print(loss)\n",
    "print(accuracy)"
   ]
  },
  {
   "cell_type": "code",
   "execution_count": 18,
   "id": "e7f25945",
   "metadata": {},
   "outputs": [
    {
     "data": {
      "image/png": "[encoded data removed]",
      "text/plain": [
       "<Figure size 1000x500 with 1 Axes>"
      ]
     },
     "metadata": {},
     "output_type": "display_data"
    }
   ],
   "source": [
    "#call matplotlib graphs to draw accuracy performance value\n",
    "acc=hist.history['accuracy']\n",
    "los=hist.history['loss']\n",
    "\n",
    "val_acc=hist.history['val_accuracy']\n",
    "val_los=hist.history['val_loss']\n",
    "\n",
    "import matplotlib.pyplot as plt\n",
    "\n",
    "plt.figure(figsize=(10,5))\n",
    "plt.plot(acc,label=\"Traning data accuracy\")\n",
    "plt.plot(los,label=\"Traning data loss\")\n",
    "plt.plot(val_acc,label=\"Traning data validation accuracy\")\n",
    "plt.plot(val_los,label=\"Traning data validation loss\")\n",
    "\n",
    "#x and y axis.\n",
    "plt.xlabel('Epoch')\n",
    "plt.ylabel('value')\n",
    "\n",
    "plt.title('training details history')\n",
    "#which call the matplotlib\n",
    "plt.legend()\n",
    "plt.grid(True)\n",
    "#structure of the frame\n",
    "plt.tight_layout()\n",
    "plt.show()"
   ]
  },
  {
   "cell_type": "code",
   "execution_count": 19,
   "id": "0e32186d",
   "metadata": {},
   "outputs": [
    {
     "data": {
      "image/png": "[encoded data removed]",
      "text/plain": [
       "<Figure size 800x500 with 1 Axes>"
      ]
     },
     "metadata": {},
     "output_type": "display_data"
    }
   ],
   "source": [
    "import matplotlib.pyplot as plt\n",
    "\n",
    "# Get the last epoch's metrics\n",
    "last_acc = hist.history['accuracy'][-1]\n",
    "last_val_acc = hist.history['val_accuracy'][-1]\n",
    "last_loss = hist.history['loss'][-1]\n",
    "last_val_loss = hist.history['val_loss'][-1]\n",
    "\n",
    "# Labels and values for the bar chart\n",
    "labels = ['Train Accuracy', 'Val Accuracy', 'Train Loss', 'Val Loss']\n",
    "values = [last_acc, last_val_acc, last_loss, last_val_loss]\n",
    "colors = ['skyblue', 'lightgreen', 'salmon', 'plum']\n",
    "\n",
    "# Plotting\n",
    "plt.figure(figsize=(8, 5))\n",
    "bars = plt.bar(labels, values, color=colors)\n",
    "\n",
    "# Annotate bars with values\n",
    "for bar in bars:\n",
    "    height = bar.get_height()\n",
    "    plt.text(bar.get_x() + bar.get_width() / 2, height, f'{height:.2f}',\n",
    "             ha='center', va='bottom', fontsize=10)\n",
    "\n",
    "# Titles and labels\n",
    "plt.title('Model Performance at Last Epoch')\n",
    "plt.ylabel('Value')\n",
    "plt.ylim(0, max(values) + 0.1)  # Adjust Y-axis if needed\n",
    "plt.grid(axis='y', linestyle='--', alpha=0.7)\n",
    "plt.tight_layout()\n",
    "plt.show()"
   ]
  },
  {
   "cell_type": "code",
   "execution_count": 20,
   "id": "6a52ba99",
   "metadata": {},
   "outputs": [
    {
     "data": {
      "image/png": "[encoded data removed]",
      "text/plain": [
       "<Figure size 800x500 with 1 Axes>"
      ]
     },
     "metadata": {},
     "output_type": "display_data"
    }
   ],
   "source": [
    "last_values=[acc[-1],los[-1],val_acc[-1],val_los[-1]]\n",
    "labels=['Accuracy','Loss','Val Accuracy','Val Loss']\n",
    "\n",
    "plt.figure(figsize=(8,5))\n",
    "plt.bar(labels,last_values)\n",
    "plt.title('Last Epoch Metrics')\n",
    "plt.ylabel('Value')\n",
    "plt.ylim(0,1)\n",
    "plt.grid(axis='y')\n",
    "plt.show()"
   ]
  },
  {
   "cell_type": "code",
   "execution_count": 21,
   "id": "b914afc9",
   "metadata": {},
   "outputs": [],
   "source": [
    "import cv2\n",
    "import numpy as np\n",
    "from keras.models import model_from_json\n"
   ]
  },
  {
   "cell_type": "code",
   "execution_count": 24,
   "id": "18d6f201",
   "metadata": {},
   "outputs": [
    {
     "name": "stdout",
     "output_type": "stream",
     "text": [
      "[INFO] Loaded model from disk.\n"
     ]
    }
   ],
   "source": [
    "import cv2\n",
    "import numpy as np\n",
    "from keras.models import model_from_json\n",
    "\n",
    "# Load model architecture\n",
    "jsonmodels = open('Model/model.json', 'r')\n",
    "loaddata = jsonmodels.read()\n",
    "jsonmodels.close()\n",
    "\n",
    "model = model_from_json(loaddata)\n",
    "\n",
    "# Load weights (make sure filename matches what you saved)\n",
    "model.load_weights(\"Model/model.weights.h5\")\n",
    "print(\"[INFO] Loaded model from disk.\")"
   ]
  },
  {
   "cell_type": "code",
   "execution_count": 27,
   "id": "817b6d6d",
   "metadata": {},
   "outputs": [
    {
     "name": "stdout",
     "output_type": "stream",
     "text": [
      "\u001b[1m1/1\u001b[0m \u001b[32m━━━━━━━━━━━━━━━━━━━━\u001b[0m\u001b[37m\u001b[0m \u001b[1m0s\u001b[0m 111ms/step\n",
      "[INFO] Prediction Probabilities: [[0.11967006 0.88032997]]\n",
      "[INFO] Classified as :tumor detected\n"
     ]
    }
   ],
   "source": [
    "disease = ['No tumor detected', 'tumor detected']\n",
    "\n",
    "# Use a valid image path from your current workspace\n",
    "filename = \"C://Users//mahes//OneDrive//Desktop//Pro3_Kidney//dataset//yes//Y1.jpg\"\n",
    "img = cv2.imread(filename, 0)\n",
    "if img is None:\n",
    "    raise FileNotFoundError(f\"Image not found or cannot be read: {filename}\")\n",
    "\n",
    "img = cv2.resize(img, (128, 128))\n",
    "img = img.reshape(1, 128, 128, 1)\n",
    "img = img.astype('float32') / 255.0\n",
    "\n",
    "predicts = model.predict(img)\n",
    "cls = np.argmax(predicts)\n",
    "print(f\"[INFO] Prediction Probabilities: {predicts}\")\n",
    "print(f\"[INFO] Classified as :{disease[cls]}\")"
   ]
  },
  {
   "cell_type": "code",
   "execution_count": 28,
   "id": "cdc10f58",
   "metadata": {},
   "outputs": [
    {
     "name": "stdout",
     "output_type": "stream",
     "text": [
      "\u001b[1m1/1\u001b[0m \u001b[32m━━━━━━━━━━━━━━━━━━━━\u001b[0m\u001b[37m\u001b[0m \u001b[1m0s\u001b[0m 47ms/step\n",
      "[INFO] Prediction Probabilities: [[0.11967006 0.88032997]]\n",
      "[INFO] Classified as :tumor detected\n"
     ]
    }
   ],
   "source": [
    "predicts=model.predict(img)\n",
    "cls=np.argmax(predicts)\n",
    "print(f\"[INFO] Prediction Probabilities: {predicts}\")\n",
    "print(f\"[INFO] Classified as :{disease[cls]}\")"
   ]
  },
  {
   "cell_type": "code",
   "execution_count": null,
   "id": "5677a0be",
   "metadata": {},
   "outputs": [],
   "source": []
  }
 ],
 "metadata": {
  "kernelspec": {
   "display_name": "Python 3",
   "language": "python",
   "name": "python3"
  },
  "language_info": {
   "codemirror_mode": {
    "name": "ipython",
    "version": 3
   },
   "file_extension": ".py",
   "mimetype": "text/x-python",
   "name": "python",
   "nbconvert_exporter": "python",
   "pygments_lexer": "ipython3",
   "version": "3.9.13"
  }
 },
 "nbformat": 4,
 "nbformat_minor": 5
}
