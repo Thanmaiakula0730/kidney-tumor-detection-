{
 "cells": [
  {
   "cell_type": "code",
   "execution_count": 1,
   "id": "17da64e6",
   "metadata": {},
   "outputs": [],
   "source": [
    "IMG_SIZE =128\n"
   ]
  },
  {
   "cell_type": "code",
   "execution_count": null,
   "id": "7bbedba8",
   "metadata": {},
   "outputs": [],
   "source": []
  },
  {
   "cell_type": "code",
   "execution_count": 2,
   "id": "f90a9732",
   "metadata": {},
   "outputs": [],
   "source": [
    "import os \n",
    "import cv2\n",
    "import numpy as np\n",
    "\n",
    "def load_dataset(basepath):\n",
    "    X,Y =[],[]\n",
    "    for label,folder in enumerate(['Cyst','Normal','Stone','Tumor']):\n",
    "        folder_path = os.path.join(basepath,folder)\n",
    "        for file in os.listdir(folder_path):\n",
    "            path = os.path.join(folder_path,file)\n",
    "            \n",
    "            img = cv2.imread(path,0)\n",
    "            if img is None:\n",
    "                continue\n",
    "\n",
    "            img = cv2.resize(img,(IMG_SIZE,IMG_SIZE))\n",
    "            img = img.reshape(IMG_SIZE,IMG_SIZE,1)\n",
    "\n",
    "            X.append(img)\n",
    "            Y.append(label)\n",
    "    \n",
    "    return np.array(X),np.array(Y)"
   ]
  },
  {
   "cell_type": "code",
   "execution_count": 5,
   "id": "adf4beb2",
   "metadata": {},
   "outputs": [],
   "source": [
    "def load_dataset(basepath):\n",
    "    X, Y = [], []\n",
    "    for label, folder in enumerate(['Cyst', 'Normal', 'Stone', 'Tumor']):\n",
    "        folder_path = os.path.join(basepath, folder)\n",
    "        if not os.path.exists(folder_path):\n",
    "            print(f\"Warning: Folder not found: {folder_path}\")\n",
    "            continue  # Skip missing folders\n",
    "        for file in os.listdir(folder_path):\n",
    "            path = os.path.join(folder_path, file)\n",
    "            img = cv2.imread(path, 0)\n",
    "            if img is None:\n",
    "                continue\n",
    "            img = cv2.resize(img, (IMG_SIZE, IMG_SIZE))\n",
    "            img = img.reshape(IMG_SIZE, IMG_SIZE, 1)\n",
    "            X.append(img)\n",
    "            Y.append(label)\n",
    "    return np.array(X), np.array(Y)"
   ]
  },
  {
   "cell_type": "code",
   "execution_count": 6,
   "id": "ca370274",
   "metadata": {},
   "outputs": [
    {
     "name": "stdout",
     "output_type": "stream",
     "text": [
      "Warning: Folder not found: C://Users//mahes//OneDrive//Desktop//Pro3_Kidney//dataset\\Cyst\n",
      "Warning: Folder not found: C://Users//mahes//OneDrive//Desktop//Pro3_Kidney//dataset\\Normal\n",
      "Warning: Folder not found: C://Users//mahes//OneDrive//Desktop//Pro3_Kidney//dataset\\Stone\n",
      "Warning: Folder not found: C://Users//mahes//OneDrive//Desktop//Pro3_Kidney//dataset\\Tumor\n"
     ]
    }
   ],
   "source": [
    "ds = \"C://Users//mahes//OneDrive//Desktop//Pro3_Kidney//dataset\"\n",
    "X, Y = load_dataset(ds)"
   ]
  },
  {
   "cell_type": "code",
   "execution_count": 14,
   "id": "4db05327",
   "metadata": {},
   "outputs": [
    {
     "name": "stdout",
     "output_type": "stream",
     "text": [
      "['no', 'yes']\n"
     ]
    }
   ],
   "source": [
    "import os \n",
    "print(os.listdir(\"C://Users//mahes//OneDrive//Desktop//Pro3_Kidney//dataset\"))"
   ]
  },
  {
   "cell_type": "code",
   "execution_count": 15,
   "id": "9258dbb2",
   "metadata": {},
   "outputs": [],
   "source": [
    "def load_dataset(basepath):\n",
    "    X, Y = [], []\n",
    "    # Change these names to match your actual folder names\n",
    "    for label, folder in enumerate(['Cyst', 'Normal', 'Stone', 'Tumor']):\n",
    "        folder_path = os.path.join(basepath, folder)\n",
    "        if not os.path.exists(folder_path):\n",
    "            print(f\"Warning: Folder not found: {folder_path}\")\n",
    "            continue\n",
    "        for file in os.listdir(folder_path):\n",
    "            path = os.path.join(folder_path, file)\n",
    "            img = cv2.imread(path, 0)\n",
    "            if img is None:\n",
    "                continue\n",
    "            img = cv2.resize(img, (IMG_SIZE, IMG_SIZE))\n",
    "            img = img.reshape(IMG_SIZE, IMG_SIZE, 1)\n",
    "            X.append(img)\n",
    "            Y.append(label)\n",
    "    return np.array(X), np.array(Y)"
   ]
  },
  {
   "cell_type": "code",
   "execution_count": 16,
   "id": "e7211f81",
   "metadata": {},
   "outputs": [],
   "source": [
    "from keras.layers import MaxPooling2D\n",
    "from keras.layers import Dense,Dropout,Activation,Flatten\n",
    "from keras.layers import Convolution2D\n",
    "from keras.models import Sequential\n",
    "from keras.models import model_from_json"
   ]
  },
  {
   "cell_type": "code",
   "execution_count": 17,
   "id": "390a38f0",
   "metadata": {},
   "outputs": [
    {
     "name": "stderr",
     "output_type": "stream",
     "text": [
      "c:\\Users\\mahes\\AppData\\Local\\Programs\\Python\\Python39\\lib\\site-packages\\keras\\src\\layers\\convolutional\\base_conv.py:113: UserWarning: Do not pass an `input_shape`/`input_dim` argument to a layer. When using Sequential models, prefer using an `Input(shape)` object as the first layer in the model instead.\n",
      "  super().__init__(activity_regularizer=activity_regularizer, **kwargs)\n"
     ]
    }
   ],
   "source": [
    "model = Sequential()\n",
    "model.add(Convolution2D(32,(3,3),input_shape=(128,128,1),activation='relu'))\n",
    "model.add(MaxPooling2D(pool_size=(2,2)))\n",
    "model.add(Convolution2D(32,(3,3),activation='relu'))\n",
    "model.add(MaxPooling2D(pool_size=(2,2)))\n",
    "model.add(Flatten())\n",
    "model.add(Dense(128,activation='relu'))\n",
    "model.add(Dense(4,activation='softmax'))"
   ]
  },
  {
   "cell_type": "markdown",
   "id": "5231a2ab",
   "metadata": {},
   "source": [
    "# x\n"
   ]
  },
  {
   "cell_type": "markdown",
   "id": "920b48c0",
   "metadata": {},
   "source": [
    "def load_dataset(basepath):\n",
    "    X, Y = [], []\n",
    "    # Change these names to match your actual folder names\n",
    "    for label, folder in enumerate(['Cyst', 'Normal', 'Stone', 'Tumor']):\n",
    "        folder_path = os.path.join(basepath, folder)\n",
    "        if not os.path.exists(folder_path):\n",
    "            print(f\"Warning: Folder not found: {folder_path}\")\n",
    "            continue\n",
    "        for file in os.listdir(folder_path):\n",
    "            path = os.path.join(folder_path, file)\n",
    "            img = cv2.imread(path, 0)\n",
    "            if img is None:\n",
    "                continue\n",
    "            img = cv2.resize(img, (IMG_SIZE, IMG_SIZE))\n",
    "            img = img.reshape(IMG_SIZE, IMG_SIZE, 1)\n",
    "            X.append(img)\n",
    "            Y.append(label)\n",
    "    return np.array(X), np.array(Y)"
   ]
  },
  {
   "cell_type": "code",
   "execution_count": 30,
   "id": "fa6dec88",
   "metadata": {},
   "outputs": [
    {
     "name": "stdout",
     "output_type": "stream",
     "text": [
      "Loaded 40 images and 40 labels\n"
     ]
    }
   ],
   "source": [
    "def load_dataset(basepath):\n",
    "    X, Y = [], []\n",
    "    valid_ext = ('.jpg', '.jpeg', '.png', '.bmp', '.tiff')\n",
    "    for label, folder in enumerate(['no', 'yes']):\n",
    "        folder_path = os.path.join(basepath, folder)\n",
    "        if not os.path.exists(folder_path):\n",
    "            print(f\"Warning: Folder not found: {folder_path}\")\n",
    "            continue\n",
    "        for file in os.listdir(folder_path):\n",
    "            if not file.lower().endswith(valid_ext):\n",
    "                continue\n",
    "            path = os.path.join(folder_path, file)\n",
    "            img = cv2.imread(path, 0)\n",
    "            if img is None:\n",
    "                continue\n",
    "            img = cv2.resize(img, (IMG_SIZE, IMG_SIZE))\n",
    "            img = img.reshape(IMG_SIZE, IMG_SIZE, 1)\n",
    "            X.append(img)\n",
    "            Y.append(label)\n",
    "    return np.array(X), np.array(Y)\n",
    "\n",
    "# Use your actual dataset path\n",
    "ds = \"C://Users//mahes//OneDrive//Desktop//Pro3_Kidney//dataset\"\n",
    "X, Y = load_dataset(ds)\n",
    "print(f\"Loaded {len(X)} images and {len(Y)} labels\")"
   ]
  },
  {
   "cell_type": "code",
   "execution_count": 33,
   "id": "55e51220",
   "metadata": {},
   "outputs": [
    {
     "name": "stdout",
     "output_type": "stream",
     "text": [
      "Loaded 40 images and 40 labels\n",
      "Epoch 1/10\n"
     ]
    },
    {
     "name": "stderr",
     "output_type": "stream",
     "text": [
      "c:\\Users\\mahes\\AppData\\Local\\Programs\\Python\\Python39\\lib\\site-packages\\keras\\src\\layers\\convolutional\\base_conv.py:113: UserWarning: Do not pass an `input_shape`/`input_dim` argument to a layer. When using Sequential models, prefer using an `Input(shape)` object as the first layer in the model instead.\n",
      "  super().__init__(activity_regularizer=activity_regularizer, **kwargs)\n"
     ]
    },
    {
     "name": "stdout",
     "output_type": "stream",
     "text": [
      "2/2 - 2s - 800ms/step - accuracy: 0.4400 - loss: 0.6703 - val_accuracy: 0.4286 - val_loss: 0.8122\n",
      "Epoch 2/10\n",
      "2/2 - 0s - 104ms/step - accuracy: 0.7600 - loss: 0.5692 - val_accuracy: 0.7143 - val_loss: 0.6512\n",
      "Epoch 3/10\n",
      "2/2 - 0s - 97ms/step - accuracy: 0.7200 - loss: 0.4931 - val_accuracy: 0.4286 - val_loss: 0.7372\n",
      "Epoch 4/10\n",
      "2/2 - 0s - 97ms/step - accuracy: 0.8000 - loss: 0.3638 - val_accuracy: 0.4286 - val_loss: 0.9291\n",
      "Epoch 5/10\n",
      "2/2 - 0s - 93ms/step - accuracy: 0.8000 - loss: 0.3171 - val_accuracy: 0.7143 - val_loss: 0.8266\n",
      "Epoch 6/10\n",
      "2/2 - 0s - 89ms/step - accuracy: 0.9200 - loss: 0.2722 - val_accuracy: 0.7143 - val_loss: 0.8261\n",
      "Epoch 7/10\n",
      "2/2 - 0s - 101ms/step - accuracy: 0.8400 - loss: 0.3112 - val_accuracy: 0.7143 - val_loss: 0.8527\n",
      "Epoch 8/10\n",
      "2/2 - 0s - 89ms/step - accuracy: 0.9600 - loss: 0.2000 - val_accuracy: 0.4286 - val_loss: 1.1691\n",
      "Epoch 9/10\n",
      "2/2 - 0s - 93ms/step - accuracy: 0.9200 - loss: 0.1385 - val_accuracy: 0.4286 - val_loss: 1.5087\n",
      "Epoch 10/10\n",
      "2/2 - 0s - 95ms/step - accuracy: 0.8800 - loss: 0.1607 - val_accuracy: 0.4286 - val_loss: 1.3452\n",
      "Test loss: 0.11153187602758408\n",
      "Test accuracy: 1.0\n"
     ]
    }
   ],
   "source": [
    "import os\n",
    "import cv2\n",
    "import numpy as np\n",
    "from sklearn.model_selection import train_test_split\n",
    "from keras.utils import to_categorical\n",
    "from keras.layers import MaxPooling2D, Dense, Dropout, Activation, Flatten, Convolution2D\n",
    "from keras.models import Sequential\n",
    "\n",
    "IMG_SIZE = 128\n",
    "\n",
    "def load_dataset(basepath):\n",
    "    X, Y = [], []\n",
    "    valid_ext = ('.jpg', '.jpeg', '.png', '.bmp', '.tiff')\n",
    "    for label, folder in enumerate(['no', 'yes']):\n",
    "        folder_path = os.path.join(basepath, folder)\n",
    "        if not os.path.exists(folder_path):\n",
    "            print(f\"Warning: Folder not found: {folder_path}\")\n",
    "            continue\n",
    "        for file in os.listdir(folder_path):\n",
    "            if not file.lower().endswith(valid_ext):\n",
    "                continue\n",
    "            path = os.path.join(folder_path, file)\n",
    "            img = cv2.imread(path, 0)\n",
    "            if img is None:\n",
    "                continue\n",
    "            img = cv2.resize(img, (IMG_SIZE, IMG_SIZE))\n",
    "            img = img.reshape(IMG_SIZE, IMG_SIZE, 1)\n",
    "            X.append(img)\n",
    "            Y.append(label)\n",
    "    return np.array(X), np.array(Y)\n",
    "\n",
    "# Load data\n",
    "ds = \"C://Users//mahes//OneDrive//Desktop//Pro3_Kidney//dataset\"\n",
    "X, Y = load_dataset(ds)\n",
    "print(f\"Loaded {len(X)} images and {len(Y)} labels\")\n",
    "if len(X) == 0 or len(Y) == 0:\n",
    "    raise ValueError(\"No data loaded. Check your dataset folders and image files.\")\n",
    "\n",
    "# Preprocess and split\n",
    "x = X.astype(\"float\") / 255.0\n",
    "y = to_categorical(Y)\n",
    "x_train, x_test, y_train, y_test = train_test_split(x, y, test_size=0.2, random_state=42)\n",
    "\n",
    "# Model\n",
    "model = Sequential()\n",
    "model.add(Convolution2D(32, (3,3), input_shape=(128,128,1), activation='relu'))\n",
    "model.add(MaxPooling2D(pool_size=(2,2)))\n",
    "model.add(Convolution2D(32, (3,3), activation='relu'))\n",
    "model.add(MaxPooling2D(pool_size=(2,2)))\n",
    "model.add(Flatten())\n",
    "model.add(Dense(128, activation='relu'))\n",
    "model.add(Dense(2, activation='softmax'))\n",
    "\n",
    "model.compile(optimizer='adam', loss='categorical_crossentropy', metrics=['accuracy'])\n",
    "model.fit(x_train, y_train, batch_size=20, epochs=10, validation_split=0.2, shuffle=True, verbose=2)\n",
    "\n",
    "loss, accuracy = model.evaluate(x_test, y_test, verbose=0)\n",
    "print(\"Test loss:\", loss)\n",
    "print(\"Test accuracy:\", accuracy)"
   ]
  },
  {
   "cell_type": "code",
   "execution_count": 37,
   "id": "7a8af57d",
   "metadata": {},
   "outputs": [
    {
     "name": "stdout",
     "output_type": "stream",
     "text": [
      "\u001b[1m1/1\u001b[0m \u001b[32m━━━━━━━━━━━━━━━━━━━━\u001b[0m\u001b[37m\u001b[0m \u001b[1m0s\u001b[0m 80ms/step\n",
      "prediction probabilities:  [[0.01507007 0.98493   ]]\n",
      "output: yes\n"
     ]
    }
   ],
   "source": [
    "cat = ['no', 'yes']\n",
    "fn = \"C://Users//mahes//OneDrive//Desktop//Pro3_Kidney//dataset//yes//Y1.jpg\"\n",
    "img = cv2.imread(fn, 0)\n",
    "if img is None:\n",
    "    raise FileNotFoundError(f\"Image not found or cannot be read: {fn}\")\n",
    "img = cv2.resize(img, (128, 128))\n",
    "img = img.reshape(1, 128, 128, 1)\n",
    "img = img.astype('float32') / 255.0\n",
    "\n",
    "pred = model.predict(img)\n",
    "cls = np.argmax(pred)\n",
    "print(\"prediction probabilities: \", pred)\n",
    "print(\"output:\", cat[cls])"
   ]
  },
  {
   "cell_type": "code",
   "execution_count": 38,
   "id": "c2dd725c",
   "metadata": {},
   "outputs": [
    {
     "name": "stdout",
     "output_type": "stream",
     "text": [
      "\u001b[1m1/1\u001b[0m \u001b[32m━━━━━━━━━━━━━━━━━━━━\u001b[0m\u001b[37m\u001b[0m \u001b[1m0s\u001b[0m 45ms/step\n",
      "prediction probabilities:  [[0.01507007 0.98493   ]]\n",
      "output yes\n"
     ]
    }
   ],
   "source": [
    "pred = model.predict(img)\n",
    "cls = np.argmax(pred)\n",
    "print(\"prediction probabilities: \",pred)\n",
    "print(\"output\",cat[cls])"
   ]
  },
  {
   "cell_type": "markdown",
   "id": "ad1c822b",
   "metadata": {},
   "source": [
    "# Y\n"
   ]
  },
  {
   "cell_type": "code",
   "execution_count": 40,
   "id": "dee32aea",
   "metadata": {},
   "outputs": [
    {
     "data": {
      "text/html": [
       "<pre style=\"white-space:pre;overflow-x:auto;line-height:normal;font-family:Menlo,'DejaVu Sans Mono',consolas,'Courier New',monospace\"><span style=\"font-weight: bold\">Model: \"sequential_1\"</span>\n",
       "</pre>\n"
      ],
      "text/plain": [
       "\u001b[1mModel: \"sequential_1\"\u001b[0m\n"
      ]
     },
     "metadata": {},
     "output_type": "display_data"
    },
    {
     "data": {
      "text/html": [
       "<pre style=\"white-space:pre;overflow-x:auto;line-height:normal;font-family:Menlo,'DejaVu Sans Mono',consolas,'Courier New',monospace\">┏━━━━━━━━━━━━━━━━━━━━━━━━━━━━━━━━━┳━━━━━━━━━━━━━━━━━━━━━━━━┳━━━━━━━━━━━━━━━┓\n",
       "┃<span style=\"font-weight: bold\"> Layer (type)                    </span>┃<span style=\"font-weight: bold\"> Output Shape           </span>┃<span style=\"font-weight: bold\">       Param # </span>┃\n",
       "┡━━━━━━━━━━━━━━━━━━━━━━━━━━━━━━━━━╇━━━━━━━━━━━━━━━━━━━━━━━━╇━━━━━━━━━━━━━━━┩\n",
       "│ conv2d_2 (<span style=\"color: #0087ff; text-decoration-color: #0087ff\">Conv2D</span>)               │ (<span style=\"color: #00d7ff; text-decoration-color: #00d7ff\">None</span>, <span style=\"color: #00af00; text-decoration-color: #00af00\">126</span>, <span style=\"color: #00af00; text-decoration-color: #00af00\">126</span>, <span style=\"color: #00af00; text-decoration-color: #00af00\">32</span>)   │           <span style=\"color: #00af00; text-decoration-color: #00af00\">320</span> │\n",
       "├─────────────────────────────────┼────────────────────────┼───────────────┤\n",
       "│ max_pooling2d_2 (<span style=\"color: #0087ff; text-decoration-color: #0087ff\">MaxPooling2D</span>)  │ (<span style=\"color: #00d7ff; text-decoration-color: #00d7ff\">None</span>, <span style=\"color: #00af00; text-decoration-color: #00af00\">63</span>, <span style=\"color: #00af00; text-decoration-color: #00af00\">63</span>, <span style=\"color: #00af00; text-decoration-color: #00af00\">32</span>)     │             <span style=\"color: #00af00; text-decoration-color: #00af00\">0</span> │\n",
       "├─────────────────────────────────┼────────────────────────┼───────────────┤\n",
       "│ conv2d_3 (<span style=\"color: #0087ff; text-decoration-color: #0087ff\">Conv2D</span>)               │ (<span style=\"color: #00d7ff; text-decoration-color: #00d7ff\">None</span>, <span style=\"color: #00af00; text-decoration-color: #00af00\">61</span>, <span style=\"color: #00af00; text-decoration-color: #00af00\">61</span>, <span style=\"color: #00af00; text-decoration-color: #00af00\">32</span>)     │         <span style=\"color: #00af00; text-decoration-color: #00af00\">9,248</span> │\n",
       "├─────────────────────────────────┼────────────────────────┼───────────────┤\n",
       "│ max_pooling2d_3 (<span style=\"color: #0087ff; text-decoration-color: #0087ff\">MaxPooling2D</span>)  │ (<span style=\"color: #00d7ff; text-decoration-color: #00d7ff\">None</span>, <span style=\"color: #00af00; text-decoration-color: #00af00\">30</span>, <span style=\"color: #00af00; text-decoration-color: #00af00\">30</span>, <span style=\"color: #00af00; text-decoration-color: #00af00\">32</span>)     │             <span style=\"color: #00af00; text-decoration-color: #00af00\">0</span> │\n",
       "├─────────────────────────────────┼────────────────────────┼───────────────┤\n",
       "│ flatten_1 (<span style=\"color: #0087ff; text-decoration-color: #0087ff\">Flatten</span>)             │ (<span style=\"color: #00d7ff; text-decoration-color: #00d7ff\">None</span>, <span style=\"color: #00af00; text-decoration-color: #00af00\">28800</span>)          │             <span style=\"color: #00af00; text-decoration-color: #00af00\">0</span> │\n",
       "├─────────────────────────────────┼────────────────────────┼───────────────┤\n",
       "│ dense_2 (<span style=\"color: #0087ff; text-decoration-color: #0087ff\">Dense</span>)                 │ (<span style=\"color: #00d7ff; text-decoration-color: #00d7ff\">None</span>, <span style=\"color: #00af00; text-decoration-color: #00af00\">128</span>)            │     <span style=\"color: #00af00; text-decoration-color: #00af00\">3,686,528</span> │\n",
       "├─────────────────────────────────┼────────────────────────┼───────────────┤\n",
       "│ dense_3 (<span style=\"color: #0087ff; text-decoration-color: #0087ff\">Dense</span>)                 │ (<span style=\"color: #00d7ff; text-decoration-color: #00d7ff\">None</span>, <span style=\"color: #00af00; text-decoration-color: #00af00\">2</span>)              │           <span style=\"color: #00af00; text-decoration-color: #00af00\">258</span> │\n",
       "└─────────────────────────────────┴────────────────────────┴───────────────┘\n",
       "</pre>\n"
      ],
      "text/plain": [
       "┏━━━━━━━━━━━━━━━━━━━━━━━━━━━━━━━━━┳━━━━━━━━━━━━━━━━━━━━━━━━┳━━━━━━━━━━━━━━━┓\n",
       "┃\u001b[1m \u001b[0m\u001b[1mLayer (type)                   \u001b[0m\u001b[1m \u001b[0m┃\u001b[1m \u001b[0m\u001b[1mOutput Shape          \u001b[0m\u001b[1m \u001b[0m┃\u001b[1m \u001b[0m\u001b[1m      Param #\u001b[0m\u001b[1m \u001b[0m┃\n",
       "┡━━━━━━━━━━━━━━━━━━━━━━━━━━━━━━━━━╇━━━━━━━━━━━━━━━━━━━━━━━━╇━━━━━━━━━━━━━━━┩\n",
       "│ conv2d_2 (\u001b[38;5;33mConv2D\u001b[0m)               │ (\u001b[38;5;45mNone\u001b[0m, \u001b[38;5;34m126\u001b[0m, \u001b[38;5;34m126\u001b[0m, \u001b[38;5;34m32\u001b[0m)   │           \u001b[38;5;34m320\u001b[0m │\n",
       "├─────────────────────────────────┼────────────────────────┼───────────────┤\n",
       "│ max_pooling2d_2 (\u001b[38;5;33mMaxPooling2D\u001b[0m)  │ (\u001b[38;5;45mNone\u001b[0m, \u001b[38;5;34m63\u001b[0m, \u001b[38;5;34m63\u001b[0m, \u001b[38;5;34m32\u001b[0m)     │             \u001b[38;5;34m0\u001b[0m │\n",
       "├─────────────────────────────────┼────────────────────────┼───────────────┤\n",
       "│ conv2d_3 (\u001b[38;5;33mConv2D\u001b[0m)               │ (\u001b[38;5;45mNone\u001b[0m, \u001b[38;5;34m61\u001b[0m, \u001b[38;5;34m61\u001b[0m, \u001b[38;5;34m32\u001b[0m)     │         \u001b[38;5;34m9,248\u001b[0m │\n",
       "├─────────────────────────────────┼────────────────────────┼───────────────┤\n",
       "│ max_pooling2d_3 (\u001b[38;5;33mMaxPooling2D\u001b[0m)  │ (\u001b[38;5;45mNone\u001b[0m, \u001b[38;5;34m30\u001b[0m, \u001b[38;5;34m30\u001b[0m, \u001b[38;5;34m32\u001b[0m)     │             \u001b[38;5;34m0\u001b[0m │\n",
       "├─────────────────────────────────┼────────────────────────┼───────────────┤\n",
       "│ flatten_1 (\u001b[38;5;33mFlatten\u001b[0m)             │ (\u001b[38;5;45mNone\u001b[0m, \u001b[38;5;34m28800\u001b[0m)          │             \u001b[38;5;34m0\u001b[0m │\n",
       "├─────────────────────────────────┼────────────────────────┼───────────────┤\n",
       "│ dense_2 (\u001b[38;5;33mDense\u001b[0m)                 │ (\u001b[38;5;45mNone\u001b[0m, \u001b[38;5;34m128\u001b[0m)            │     \u001b[38;5;34m3,686,528\u001b[0m │\n",
       "├─────────────────────────────────┼────────────────────────┼───────────────┤\n",
       "│ dense_3 (\u001b[38;5;33mDense\u001b[0m)                 │ (\u001b[38;5;45mNone\u001b[0m, \u001b[38;5;34m2\u001b[0m)              │           \u001b[38;5;34m258\u001b[0m │\n",
       "└─────────────────────────────────┴────────────────────────┴───────────────┘\n"
      ]
     },
     "metadata": {},
     "output_type": "display_data"
    },
    {
     "data": {
      "text/html": [
       "<pre style=\"white-space:pre;overflow-x:auto;line-height:normal;font-family:Menlo,'DejaVu Sans Mono',consolas,'Courier New',monospace\"><span style=\"font-weight: bold\"> Total params: </span><span style=\"color: #00af00; text-decoration-color: #00af00\">3,696,354</span> (14.10 MB)\n",
       "</pre>\n"
      ],
      "text/plain": [
       "\u001b[1m Total params: \u001b[0m\u001b[38;5;34m3,696,354\u001b[0m (14.10 MB)\n"
      ]
     },
     "metadata": {},
     "output_type": "display_data"
    },
    {
     "data": {
      "text/html": [
       "<pre style=\"white-space:pre;overflow-x:auto;line-height:normal;font-family:Menlo,'DejaVu Sans Mono',consolas,'Courier New',monospace\"><span style=\"font-weight: bold\"> Trainable params: </span><span style=\"color: #00af00; text-decoration-color: #00af00\">3,696,354</span> (14.10 MB)\n",
       "</pre>\n"
      ],
      "text/plain": [
       "\u001b[1m Trainable params: \u001b[0m\u001b[38;5;34m3,696,354\u001b[0m (14.10 MB)\n"
      ]
     },
     "metadata": {},
     "output_type": "display_data"
    },
    {
     "data": {
      "text/html": [
       "<pre style=\"white-space:pre;overflow-x:auto;line-height:normal;font-family:Menlo,'DejaVu Sans Mono',consolas,'Courier New',monospace\"><span style=\"font-weight: bold\"> Non-trainable params: </span><span style=\"color: #00af00; text-decoration-color: #00af00\">0</span> (0.00 B)\n",
       "</pre>\n"
      ],
      "text/plain": [
       "\u001b[1m Non-trainable params: \u001b[0m\u001b[38;5;34m0\u001b[0m (0.00 B)\n"
      ]
     },
     "metadata": {},
     "output_type": "display_data"
    },
    {
     "name": "stdout",
     "output_type": "stream",
     "text": [
      "Epoch 1/10\n",
      "2/2 - 1s - 662ms/step - accuracy: 0.9200 - loss: 0.1421 - val_accuracy: 0.4286 - val_loss: 1.6456\n",
      "Epoch 2/10\n",
      "2/2 - 0s - 81ms/step - accuracy: 1.0000 - loss: 0.0340 - val_accuracy: 0.7143 - val_loss: 1.2071\n",
      "Epoch 3/10\n",
      "2/2 - 0s - 94ms/step - accuracy: 1.0000 - loss: 0.0815 - val_accuracy: 0.8571 - val_loss: 0.9246\n",
      "Epoch 4/10\n",
      "2/2 - 0s - 84ms/step - accuracy: 1.0000 - loss: 0.0066 - val_accuracy: 0.4286 - val_loss: 1.1146\n",
      "Epoch 5/10\n",
      "2/2 - 0s - 83ms/step - accuracy: 1.0000 - loss: 0.0081 - val_accuracy: 0.4286 - val_loss: 1.3435\n",
      "Epoch 6/10\n",
      "2/2 - 0s - 89ms/step - accuracy: 1.0000 - loss: 0.0112 - val_accuracy: 0.4286 - val_loss: 1.4418\n",
      "Epoch 7/10\n",
      "2/2 - 0s - 107ms/step - accuracy: 1.0000 - loss: 0.0126 - val_accuracy: 0.4286 - val_loss: 1.4277\n",
      "Epoch 8/10\n",
      "2/2 - 0s - 87ms/step - accuracy: 1.0000 - loss: 0.0092 - val_accuracy: 0.4286 - val_loss: 1.3099\n",
      "Epoch 9/10\n",
      "2/2 - 0s - 92ms/step - accuracy: 1.0000 - loss: 0.0053 - val_accuracy: 0.4286 - val_loss: 1.1446\n",
      "Epoch 10/10\n",
      "2/2 - 0s - 100ms/step - accuracy: 1.0000 - loss: 0.0037 - val_accuracy: 0.8571 - val_loss: 1.0277\n"
     ]
    }
   ],
   "source": [
    "model.compile(optimizer='adam', \n",
    "              loss='categorical_crossentropy', \n",
    "              metrics=['accuracy'])\n",
    "model.summary()\n",
    "hist = model.fit(x_train, y_train, batch_size=16, epochs=10, validation_split=0.2, shuffle=True, verbose=2)\n",
    "os.makedirs('Model', exist_ok=True)\n",
    "model.save_weights('Model/model.weights.h5')"
   ]
  },
  {
   "cell_type": "code",
   "execution_count": 41,
   "id": "dfb14073",
   "metadata": {},
   "outputs": [],
   "source": [
    "import pickle \n",
    "\n",
    "model_json = model.to_json()\n",
    "with open(\"Model/model.json\",\"w\")  as json_file:\n",
    "    json_file.write(model_json)\n",
    "\n",
    "f=open(\"Model/histoy.pckl\",\"wb\")\n",
    "pickle.dump(hist.history, f)\n",
    "f.close()"
   ]
  },
  {
   "cell_type": "code",
   "execution_count": 42,
   "id": "da0aef40",
   "metadata": {},
   "outputs": [
    {
     "name": "stdout",
     "output_type": "stream",
     "text": [
      "0.023707516491413116\n",
      "1.0\n"
     ]
    }
   ],
   "source": [
    "loss,  accuracy = model.evaluate(x_test, y_test, verbose=0)\n",
    "print(loss)\n",
    "print(accuracy)"
   ]
  },
  {
   "cell_type": "code",
   "execution_count": 43,
   "id": "9547ac2c",
   "metadata": {},
   "outputs": [
    {
     "data": {
      "image/png": "[encoded data removed]",
      "text/plain": [
       "<Figure size 1000x500 with 1 Axes>"
      ]
     },
     "metadata": {},
     "output_type": "display_data"
    }
   ],
   "source": [
    "#call matplotlib graphs to draw accuracy performance value\n",
    "acc=hist.history['accuracy']\n",
    "los=hist.history['loss']\n",
    "\n",
    "val_acc=hist.history['val_accuracy']\n",
    "val_los=hist.history['val_loss']\n",
    "\n",
    "import matplotlib.pyplot as plt\n",
    "\n",
    "plt.figure(figsize=(10,5))\n",
    "plt.plot(acc,label=\"Traning data accuracy\")\n",
    "plt.plot(los,label=\"Traning data loss\")\n",
    "plt.plot(val_acc,label=\"Traning data validation accuracy\")\n",
    "plt.plot(val_los,label=\"Traning data validation loss\")\n",
    "\n",
    "#x and y axis.\n",
    "plt.xlabel('Epoch')\n",
    "plt.ylabel('value')\n",
    "\n",
    "plt.title('training details history')\n",
    "#which call the matplotlib\n",
    "plt.legend()\n",
    "plt.grid(True)\n",
    "#structure of the frame\n",
    "plt.tight_layout()\n",
    "plt.show()"
   ]
  },
  {
   "cell_type": "code",
   "execution_count": null,
   "id": "5bae2921",
   "metadata": {},
   "outputs": [],
   "source": []
  },
  {
   "cell_type": "code",
   "execution_count": null,
   "id": "819c638f",
   "metadata": {},
   "outputs": [],
   "source": [
    " "
   ]
  }
 ],
 "metadata": {
  "kernelspec": {
   "display_name": "Python 3",
   "language": "python",
   "name": "python3"
  },
  "language_info": {
   "codemirror_mode": {
    "name": "ipython",
    "version": 3
   },
   "file_extension": ".py",
   "mimetype": "text/x-python",
   "name": "python",
   "nbconvert_exporter": "python",
   "pygments_lexer": "ipython3",
   "version": "3.9.13"
  }
 },
 "nbformat": 4,
 "nbformat_minor": 5
}
